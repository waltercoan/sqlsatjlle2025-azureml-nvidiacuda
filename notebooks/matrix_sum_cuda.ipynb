{
 "cells": [
  {
   "cell_type": "markdown",
   "metadata": {},
   "source": [
    "# Soma de Matrizes com CUDA\n",
    "\n",
    "Este notebook demonstra como realizar a soma de duas matrizes quadradas de tamanho 32 utilizando a biblioteca CUDA do PyTorch."
   ]
  },
  {
   "cell_type": "code",
   "execution_count": null,
   "metadata": {},
   "outputs": [],
   "source": [
    "%pip install -r ../requirements.txt"
   ]
  },
  {
   "cell_type": "code",
   "execution_count": 1,
   "metadata": {},
   "outputs": [
    {
     "name": "stdout",
     "output_type": "stream",
     "text": [
      "Usando dispositivo: cuda\n"
     ]
    }
   ],
   "source": [
    "import torch\n",
    "\n",
    "# Verificar se CUDA está disponível\n",
    "device = torch.device('cuda' if torch.cuda.is_available() else 'cpu')\n",
    "print(f'Usando dispositivo: {device}')"
   ]
  },
  {
   "cell_type": "markdown",
   "metadata": {},
   "source": [
    "## Inicialização das Matrizes\n",
    "\n",
    "Vamos criar duas matrizes quadradas de tamanho 32 com valores aleatórios."
   ]
  },
  {
   "cell_type": "code",
   "execution_count": 2,
   "metadata": {},
   "outputs": [
    {
     "name": "stdout",
     "output_type": "stream",
     "text": [
      "Matriz A:\n",
      "tensor([[0.3963, 0.4543, 0.5858,  ..., 0.4504, 0.3881, 0.4695],\n",
      "        [0.5725, 0.3775, 0.0960,  ..., 0.0554, 0.4642, 0.1510],\n",
      "        [0.9807, 0.6590, 0.1757,  ..., 0.8000, 0.2427, 0.1024],\n",
      "        ...,\n",
      "        [0.3592, 0.7176, 0.8184,  ..., 0.6110, 0.1880, 0.6845],\n",
      "        [0.3035, 0.0574, 0.6298,  ..., 0.9055, 0.1454, 0.6360],\n",
      "        [0.6614, 0.9907, 0.1469,  ..., 0.6055, 0.8927, 0.3918]])\n",
      "\n",
      "Matriz B:\n",
      "tensor([[0.9075, 0.5336, 0.7817,  ..., 0.3872, 0.3209, 0.0469],\n",
      "        [0.5209, 0.3734, 0.5783,  ..., 0.1549, 0.5250, 0.4891],\n",
      "        [0.5397, 0.3564, 0.4263,  ..., 0.8378, 0.2496, 0.7726],\n",
      "        ...,\n",
      "        [0.5405, 0.2164, 0.3317,  ..., 0.5742, 0.5903, 0.5981],\n",
      "        [0.8855, 0.6558, 0.9418,  ..., 0.8125, 0.8096, 0.1924],\n",
      "        [0.4015, 0.3111, 0.9784,  ..., 0.8641, 0.1121, 0.1918]])\n"
     ]
    }
   ],
   "source": [
    "# Tamanho das matrizes\n",
    "N = 32\n",
    "\n",
    "# Criar duas matrizes aleatórias no dispositivo CUDA\n",
    "#matrix_a = torch.rand((N, N), device=device)\n",
    "#matrix_b = torch.rand((N, N), device=device)\n",
    "matrix_a = torch.rand((N, N))\n",
    "matrix_b = torch.rand((N, N))\n",
    "\n",
    "print(\"Matriz A:\")\n",
    "print(matrix_a)\n",
    "\n",
    "print(\"\\nMatriz B:\")\n",
    "print(matrix_b)"
   ]
  },
  {
   "cell_type": "code",
   "execution_count": 4,
   "metadata": {},
   "outputs": [
    {
     "name": "stdout",
     "output_type": "stream",
     "text": [
      "Matriz A:\n",
      "tensor([[0.3963, 0.4543, 0.5858,  ..., 0.4504, 0.3881, 0.4695],\n",
      "        [0.5725, 0.3775, 0.0960,  ..., 0.0554, 0.4642, 0.1510],\n",
      "        [0.9807, 0.6590, 0.1757,  ..., 0.8000, 0.2427, 0.1024],\n",
      "        ...,\n",
      "        [0.3592, 0.7176, 0.8184,  ..., 0.6110, 0.1880, 0.6845],\n",
      "        [0.3035, 0.0574, 0.6298,  ..., 0.9055, 0.1454, 0.6360],\n",
      "        [0.6614, 0.9907, 0.1469,  ..., 0.6055, 0.8927, 0.3918]],\n",
      "       device='cuda:0')\n",
      "\n",
      "Matriz B:\n",
      "tensor([[0.9075, 0.5336, 0.7817,  ..., 0.3872, 0.3209, 0.0469],\n",
      "        [0.5209, 0.3734, 0.5783,  ..., 0.1549, 0.5250, 0.4891],\n",
      "        [0.5397, 0.3564, 0.4263,  ..., 0.8378, 0.2496, 0.7726],\n",
      "        ...,\n",
      "        [0.5405, 0.2164, 0.3317,  ..., 0.5742, 0.5903, 0.5981],\n",
      "        [0.8855, 0.6558, 0.9418,  ..., 0.8125, 0.8096, 0.1924],\n",
      "        [0.4015, 0.3111, 0.9784,  ..., 0.8641, 0.1121, 0.1918]],\n",
      "       device='cuda:0')\n"
     ]
    }
   ],
   "source": [
    "matrix_a = matrix_a.to(device)\n",
    "matrix_b = matrix_b.to(device)\n",
    "\n",
    "print(\"Matriz A:\")\n",
    "print(matrix_a)\n",
    "\n",
    "print(\"\\nMatriz B:\")\n",
    "print(matrix_b)"
   ]
  },
  {
   "cell_type": "markdown",
   "metadata": {},
   "source": [
    "## Soma das Matrizes\n",
    "\n",
    "Agora, realizamos a soma das duas matrizes diretamente no dispositivo CUDA."
   ]
  },
  {
   "cell_type": "code",
   "execution_count": 5,
   "metadata": {},
   "outputs": [
    {
     "name": "stdout",
     "output_type": "stream",
     "text": [
      "\n",
      "Soma das Matrizes:\n",
      "tensor([[1.3038, 0.9879, 1.3674,  ..., 0.8376, 0.7090, 0.5164],\n",
      "        [1.0934, 0.7509, 0.6743,  ..., 0.2103, 0.9893, 0.6401],\n",
      "        [1.5204, 1.0155, 0.6019,  ..., 1.6378, 0.4923, 0.8750],\n",
      "        ...,\n",
      "        [0.8997, 0.9341, 1.1501,  ..., 1.1852, 0.7783, 1.2826],\n",
      "        [1.1890, 0.7131, 1.5716,  ..., 1.7180, 0.9550, 0.8283],\n",
      "        [1.0629, 1.3017, 1.1253,  ..., 1.4696, 1.0047, 0.5836]],\n",
      "       device='cuda:0')\n"
     ]
    }
   ],
   "source": [
    "# Soma das matrizes\n",
    "matrix_sum = matrix_a + matrix_b\n",
    "\n",
    "print(\"\\nSoma das Matrizes:\")\n",
    "print(matrix_sum)"
   ]
  },
  {
   "cell_type": "markdown",
   "metadata": {},
   "source": [
    "## Transferência para a CPU\n",
    "\n",
    "Se necessário, podemos transferir o resultado de volta para a CPU."
   ]
  },
  {
   "cell_type": "code",
   "execution_count": 6,
   "metadata": {},
   "outputs": [
    {
     "name": "stdout",
     "output_type": "stream",
     "text": [
      "\n",
      "Soma das Matrizes (na CPU):\n",
      "tensor([[1.3038, 0.9879, 1.3674,  ..., 0.8376, 0.7090, 0.5164],\n",
      "        [1.0934, 0.7509, 0.6743,  ..., 0.2103, 0.9893, 0.6401],\n",
      "        [1.5204, 1.0155, 0.6019,  ..., 1.6378, 0.4923, 0.8750],\n",
      "        ...,\n",
      "        [0.8997, 0.9341, 1.1501,  ..., 1.1852, 0.7783, 1.2826],\n",
      "        [1.1890, 0.7131, 1.5716,  ..., 1.7180, 0.9550, 0.8283],\n",
      "        [1.0629, 1.3017, 1.1253,  ..., 1.4696, 1.0047, 0.5836]])\n"
     ]
    }
   ],
   "source": [
    "# Transferir o resultado para a CPU\n",
    "matrix_sum_cpu = matrix_sum.cpu()\n",
    "\n",
    "print(\"\\nSoma das Matrizes (na CPU):\")\n",
    "print(matrix_sum_cpu)"
   ]
  }
 ],
 "metadata": {
  "kernelspec": {
   "display_name": "Python 3.10 - SDK v2",
   "language": "python",
   "name": "python310-sdkv2"
  },
  "language_info": {
   "codemirror_mode": {
    "name": "ipython",
    "version": 3
   },
   "file_extension": ".py",
   "mimetype": "text/x-python",
   "name": "python",
   "nbconvert_exporter": "python",
   "pygments_lexer": "ipython3",
   "version": "3.10.14"
  }
 },
 "nbformat": 4,
 "nbformat_minor": 4
}
